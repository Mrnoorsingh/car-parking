{
 "cells": [
  {
   "cell_type": "code",
   "execution_count": 1,
   "metadata": {},
   "outputs": [
    {
     "name": "stdout",
     "output_type": "stream",
     "text": [
      "Writing utils.py\n"
     ]
    }
   ],
   "source": [
    "%%writefile utils.py\n",
    "from twilio.rest import Client\n",
    "import numpy as np\n",
    "\n",
    "\n",
    "def twilio():\n",
    "    account_sid = 'ACc2480559020c2b645e9e735e08e8ccca'#user's unique SID\n",
    "    auth_token = '4ef89947554b6eb5aeebd67443f31f52'#user's authentication token\n",
    "    client = Client(account_sid, auth_token)\n",
    "\n",
    "    message = client.messages \\\n",
    "                .create(\n",
    "                     body=\"Parking Available\",\n",
    "                     from_='+18065471647',\n",
    "                     to='+917888362514'\n",
    "                 )\n",
    "    \n",
    "def ApplyMask(image,mask,color,alpha):\n",
    "    for i in range(3):\n",
    "        image[:,:,i]=np.where(mask==1,image[:,:,i]*(1-alpha) + alpha*color[i]*255,image[:,:,i])\n",
    "    return image    \n",
    "\n",
    "def Colors(class_names):\n",
    "    np.random.seed(12)\n",
    "    rand_colors=[tuple(np.random.rand(3)*255) for _ in range(len(class_names))]\n",
    "    color_dict={ID:color for ID,color in enumerate(rand_colors)}\n",
    "    return color_dict"
   ]
  }
 ],
 "metadata": {
  "kernelspec": {
   "display_name": "Python 3",
   "language": "python",
   "name": "python3"
  },
  "language_info": {
   "codemirror_mode": {
    "name": "ipython",
    "version": 3
   },
   "file_extension": ".py",
   "mimetype": "text/x-python",
   "name": "python",
   "nbconvert_exporter": "python",
   "pygments_lexer": "ipython3",
   "version": "3.6.7"
  },
  "toc": {
   "base_numbering": 1,
   "nav_menu": {},
   "number_sections": true,
   "sideBar": true,
   "skip_h1_title": false,
   "title_cell": "Table of Contents",
   "title_sidebar": "Contents",
   "toc_cell": false,
   "toc_position": {},
   "toc_section_display": true,
   "toc_window_display": false
  }
 },
 "nbformat": 4,
 "nbformat_minor": 2
}
