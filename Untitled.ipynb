{
 "cells": [
  {
   "cell_type": "code",
   "execution_count": 55,
   "metadata": {},
   "outputs": [],
   "source": [
    "import cv2\n",
    "import numpy"
   ]
  },
  {
   "cell_type": "code",
   "execution_count": 50,
   "metadata": {},
   "outputs": [
    {
     "data": {
      "text/plain": [
       "[(106.34061119915637, 183.68274582775032, 0.029165578422946092),\n",
       " (77.09480602111914, 37.42275215836383, 23.54634166604344),\n",
       " (47.49635390130608, 88.11798539597717, 101.17570592882083),\n",
       " (137.39826717085603, 106.89460117284017, 174.73097260117368),\n",
       " (52.135323681536946, 223.9199462796911, 6.983836265471171)]"
      ]
     },
     "execution_count": 50,
     "metadata": {},
     "output_type": "execute_result"
    }
   ],
   "source": [
    "import numpy as np\n",
    "def randomcolors(N):\n",
    "        np.random.seed(1)\n",
    "        color=[tuple(255*np.random.rand(3)) for i in range(N)]\n",
    "        \n",
    "        return color\n"
   ]
  },
  {
   "cell_type": "code",
   "execution_count": 53,
   "metadata": {},
   "outputs": [],
   "source": [
    "def mask(image,color,mask,alpha=0.5):\n",
    "    for i,c in enumerate(color):\n",
    "        image[:,:,i]=np.where(maskk==1,image[:,:,i]*(1-alpha)+alpha*c,image[:,:,i])\n",
    "    return image"
   ]
  },
  {
   "cell_type": "code",
   "execution_count": 64,
   "metadata": {},
   "outputs": [],
   "source": [
    "def displayinstances(image,masks,class_ids,class_names,scores,boxes):\n",
    "    \"\"\"\n",
    "    boxes: [num_instance, (y1, x1, y2, x2, class_id)] in image coordinates.\n",
    "    masks: [height, width, num_instances]\n",
    "    class_ids: [num_instances]\n",
    "    class_names: list of class names of the dataset\n",
    "    scores: (optional) confidence scores for each boxes\n",
    "    \"\"\"\n",
    "    N=boxes.shape[0]\n",
    "    color=randomcolors(N)\n",
    "    assert  N==masks.shape[-1]==class_ids.shape[0]\n",
    "   \n",
    "    \n",
    "    for i,c in enumerate(color):\n",
    "         if not np.any(boxes[i]):\n",
    "            # Skip this instance. Has no bbox. Likely lost in image cropping.\n",
    "             continue\n",
    "         y1, x1, y2, x2 = boxes[i]   \n",
    "         class_id = class_ids[i]\n",
    "         score = scores[i] if scores is not None else None\n",
    "         label = class_names[class_id]\n",
    "         caption = \"{} {:.3f}\".format(label, score) if score else label\n",
    "         mask = masks[:, :, i]\n",
    "         image = apply_mask(image, mask, color)\n",
    "         image = cv2.rectangle(image,(x1,y1),(x2,y2),c,2)\n",
    "         image = cv2.putText(image,caption,(x1,y1),cv2.FONT_HERSHEY_PLAIN,0.5,c,2)  \n",
    "    return image\n",
    "          \n",
    "\n"
   ]
  }
 ],
 "metadata": {
  "kernelspec": {
   "display_name": "Python 3",
   "language": "python",
   "name": "python3"
  },
  "language_info": {
   "codemirror_mode": {
    "name": "ipython",
    "version": 3
   },
   "file_extension": ".py",
   "mimetype": "text/x-python",
   "name": "python",
   "nbconvert_exporter": "python",
   "pygments_lexer": "ipython3",
   "version": "3.6.7"
  },
  "toc": {
   "base_numbering": 1,
   "nav_menu": {},
   "number_sections": true,
   "sideBar": true,
   "skip_h1_title": false,
   "title_cell": "Table of Contents",
   "title_sidebar": "Contents",
   "toc_cell": false,
   "toc_position": {},
   "toc_section_display": true,
   "toc_window_display": false
  }
 },
 "nbformat": 4,
 "nbformat_minor": 2
}
