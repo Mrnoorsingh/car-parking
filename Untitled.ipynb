{
 "cells": [
  {
   "cell_type": "code",
   "execution_count": 124,
   "metadata": {},
   "outputs": [],
   "source": [
    "def colors(class_names):\n",
    "    np.random.seed(12)\n",
    "    rand_colors=[tuple(np.random.rand(3)*255) for _ in range(len(class_names))]\n",
    "    dict_color={ID:color for (ID,color) in enumerate(rand_colors) }\n",
    "    return dict_color"
   ]
  },
  {
   "cell_type": "code",
   "execution_count": 125,
   "metadata": {},
   "outputs": [],
   "source": [
    "def mask(image,mask,color,alpha=0.5):\n",
    "    for i in range(3):\n",
    "        image[:,:,i]=np.where(maskk==1,image[:,:,i]*(1-alpha)+alpha*color[i],image[:,:,i])\n",
    "    return image"
   ]
  },
  {
   "cell_type": "code",
   "execution_count": 126,
   "metadata": {},
   "outputs": [],
   "source": [
    "def displayinstances(image,masks,class_ids,class_names,scores,boxes):\n",
    "    \"\"\"\n",
    "    boxes: [num_instance, (y1, x1, y2, x2, class_id)] in image coordinates.\n",
    "    masks: [height, width, num_instances]\n",
    "    class_ids: [num_instances]\n",
    "    class_names: list of class names of the dataset\n",
    "    scores: (optional) confidence scores for each boxes\n",
    "    \"\"\"\n",
    "    N=boxes.shape[0]\n",
    "    color=colors(class_names)\n",
    "    assert  N==masks.shape[-1]==class_ids.shape[0]\n",
    "   \n",
    "    \n",
    "    for i in range(N):\n",
    "         if not np.any(boxes[i]):\n",
    "            # Skip this instance. Has no bbox. Likely lost in image cropping.\n",
    "             continue\n",
    "         y1, x1, y2, x2 = boxes[i]   \n",
    "         class_id = class_ids[i]\n",
    "         score = scores[i] if scores is not None else None\n",
    "         label = class_names[class_id]\n",
    "         caption = \"{} {:.3f}\".format(label, score) if score else label\n",
    "         mask = masks[:, :, i]\n",
    "         image = apply_mask(image, mask, color(i))\n",
    "         image = cv2.rectangle(image,(x1,y1),(x2,y2),color(i),2)\n",
    "         image = cv2.putText(image,caption,(x1,y1),cv2.FONT_HERSHEY_PLAIN,0.5,color(i),2)  \n",
    "    return image\n",
    "          \n",
    "\n"
   ]
  },
  {
   "cell_type": "code",
   "execution_count": null,
   "metadata": {},
   "outputs": [],
   "source": []
  }
 ],
 "metadata": {
  "kernelspec": {
   "display_name": "Python 3",
   "language": "python",
   "name": "python3"
  },
  "language_info": {
   "codemirror_mode": {
    "name": "ipython",
    "version": 3
   },
   "file_extension": ".py",
   "mimetype": "text/x-python",
   "name": "python",
   "nbconvert_exporter": "python",
   "pygments_lexer": "ipython3",
   "version": "3.6.7"
  },
  "toc": {
   "base_numbering": 1,
   "nav_menu": {},
   "number_sections": true,
   "sideBar": true,
   "skip_h1_title": false,
   "title_cell": "Table of Contents",
   "title_sidebar": "Contents",
   "toc_cell": false,
   "toc_position": {},
   "toc_section_display": true,
   "toc_window_display": false
  }
 },
 "nbformat": 4,
 "nbformat_minor": 2
}
