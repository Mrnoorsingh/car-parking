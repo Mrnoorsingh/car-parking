{
 "cells": [
  {
   "cell_type": "code",
   "execution_count": 50,
   "metadata": {},
   "outputs": [
    {
     "data": {
      "text/plain": [
       "[(106.34061119915637, 183.68274582775032, 0.029165578422946092),\n",
       " (77.09480602111914, 37.42275215836383, 23.54634166604344),\n",
       " (47.49635390130608, 88.11798539597717, 101.17570592882083),\n",
       " (137.39826717085603, 106.89460117284017, 174.73097260117368),\n",
       " (52.135323681536946, 223.9199462796911, 6.983836265471171)]"
      ]
     },
     "execution_count": 50,
     "metadata": {},
     "output_type": "execute_result"
    }
   ],
   "source": [
    "import numpy as np\n",
    "def randomcolors(N):\n",
    "        np.random.seed(1)\n",
    "        color=[tuple(255*np.random.rand(3)) for i in range(N)]\n"
   ]
  },
  {
   "cell_type": "code",
   "execution_count": 53,
   "metadata": {},
   "outputs": [],
   "source": [
    "def mask(image,color,mask,alpha=0.5):\n",
    "    for i,c in enumerate(color):\n",
    "        image[:,:,i]=np.where(maskk==1,image[:,:,i]*(1-alpha)+alpha*c,image[:,:,i])\n",
    "    return image"
   ]
  }
 ],
 "metadata": {
  "kernelspec": {
   "display_name": "Python 3",
   "language": "python",
   "name": "python3"
  },
  "language_info": {
   "codemirror_mode": {
    "name": "ipython",
    "version": 3
   },
   "file_extension": ".py",
   "mimetype": "text/x-python",
   "name": "python",
   "nbconvert_exporter": "python",
   "pygments_lexer": "ipython3",
   "version": "3.6.7"
  },
  "toc": {
   "base_numbering": 1,
   "nav_menu": {},
   "number_sections": true,
   "sideBar": true,
   "skip_h1_title": false,
   "title_cell": "Table of Contents",
   "title_sidebar": "Contents",
   "toc_cell": false,
   "toc_position": {},
   "toc_section_display": true,
   "toc_window_display": false
  }
 },
 "nbformat": 4,
 "nbformat_minor": 2
}
